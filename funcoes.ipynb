{
 "cells": [
  {
   "cell_type": "markdown",
   "metadata": {},
   "source": [
    "# Funções e programação defensiva"
   ]
  },
  {
   "cell_type": "markdown",
   "metadata": {},
   "source": [
    "## License\n",
    "\n",
    "All content can be freely used and adapted under the terms of the \n",
    "[Creative Commons Attribution 4.0 International License](http://creativecommons.org/licenses/by/4.0/).\n",
    "\n",
    "![Creative Commons License](https://i.creativecommons.org/l/by/4.0/88x31.png)"
   ]
  },
  {
   "cell_type": "markdown",
   "metadata": {},
   "source": [
    "## Imports\n",
    "\n",
    "Coloque **todos** os `import` na célula abaixo. Não se esqueça do `%matplotlib inline` para que os gráficos apareçam no notebook."
   ]
  },
  {
   "cell_type": "code",
   "execution_count": 46,
   "metadata": {
    "collapsed": true
   },
   "outputs": [],
   "source": [
    "import numpy as np  # Biblioteca para cálculo numérico do Python"
   ]
  },
  {
   "cell_type": "markdown",
   "metadata": {},
   "source": [
    "## Funções\n",
    "\n",
    "### Tarefa - Criando uma função \n",
    "\n",
    "Crie duas funções:\n",
    "\n",
    "* `celsius_para_kelvin` que recebe a temperatura em Celsius como argumento e retorna a temperatura convertida para Kelvin\n",
    "* `kelvin_para_fahr` que recebe uma temperatura em Kelvin e a converte para Fahrenheit\n",
    "\n",
    "Lembrando que:\n",
    "\n",
    "* Kelvin = Celsius + 273.15\n",
    "* Fahrenheit = (Kelvin - 273.15)*1.8 + 32"
   ]
  },
  {
   "cell_type": "code",
   "execution_count": 47,
   "metadata": {
    "collapsed": true
   },
   "outputs": [],
   "source": [
    "def celsius_para_kelvin(celsius):\n",
    "    kelvin = celsius + 273.15\n",
    "    return kelvin"
   ]
  },
  {
   "cell_type": "code",
   "execution_count": 48,
   "metadata": {
    "collapsed": false
   },
   "outputs": [],
   "source": [
    "def kelvin_para_fahr(kelvin):\n",
    "    fahrenheit = (kelvin - 273.15)*1.8 + 32\n",
    "    return fahrenheit"
   ]
  },
  {
   "cell_type": "code",
   "execution_count": 49,
   "metadata": {
    "collapsed": false
   },
   "outputs": [
    {
     "data": {
      "text/plain": [
       "303.15"
      ]
     },
     "execution_count": 49,
     "metadata": {},
     "output_type": "execute_result"
    }
   ],
   "source": [
    "celsius_para_kelvin(30)"
   ]
  },
  {
   "cell_type": "markdown",
   "metadata": {},
   "source": [
    "As células abaixo executam a sua função e comparam com os resultados esperados. Use-as para verificar se a sua função está funcionando (todas as células devem imprimir `True`)."
   ]
  },
  {
   "cell_type": "code",
   "execution_count": 50,
   "metadata": {
    "collapsed": false
   },
   "outputs": [
    {
     "data": {
      "text/plain": [
       "True"
      ]
     },
     "execution_count": 50,
     "metadata": {},
     "output_type": "execute_result"
    }
   ],
   "source": [
    "celsius_para_kelvin(0) == 273.15"
   ]
  },
  {
   "cell_type": "code",
   "execution_count": 51,
   "metadata": {
    "collapsed": false
   },
   "outputs": [
    {
     "data": {
      "text/plain": [
       "True"
      ]
     },
     "execution_count": 51,
     "metadata": {},
     "output_type": "execute_result"
    }
   ],
   "source": [
    "celsius_para_kelvin(-273.15) == 0"
   ]
  },
  {
   "cell_type": "code",
   "execution_count": 52,
   "metadata": {
    "collapsed": false
   },
   "outputs": [
    {
     "data": {
      "text/plain": [
       "True"
      ]
     },
     "execution_count": 52,
     "metadata": {},
     "output_type": "execute_result"
    }
   ],
   "source": [
    "celsius_para_kelvin(42) == 315.15"
   ]
  },
  {
   "cell_type": "code",
   "execution_count": 53,
   "metadata": {
    "collapsed": false
   },
   "outputs": [
    {
     "data": {
      "text/plain": [
       "True"
      ]
     },
     "execution_count": 53,
     "metadata": {},
     "output_type": "execute_result"
    }
   ],
   "source": [
    "kelvin_para_fahr(273.15) == 32"
   ]
  },
  {
   "cell_type": "code",
   "execution_count": 54,
   "metadata": {
    "collapsed": false
   },
   "outputs": [
    {
     "data": {
      "text/plain": [
       "True"
      ]
     },
     "execution_count": 54,
     "metadata": {},
     "output_type": "execute_result"
    }
   ],
   "source": [
    "kelvin_para_fahr(373.15) == 212"
   ]
  },
  {
   "cell_type": "markdown",
   "metadata": {},
   "source": [
    "### Tarefa - Compondo funções\n",
    "\n",
    "Crie uma função chamada `celsius_para_fahr` que recebe a temperatura em Celsius e retorna a temperatura em Fahrenheit. Você deve **obrigatoriamente** utilizar as duas funções criadas anteriormente para calcular o resultado."
   ]
  },
  {
   "cell_type": "code",
   "execution_count": 55,
   "metadata": {
    "collapsed": false
   },
   "outputs": [],
   "source": [
    "def celsius_para_fahr(celsius):\n",
    "    fahrenheit = ((celsius + 273.15) - 273.15)*1.8 + 32\n",
    "    return fahrenheit"
   ]
  },
  {
   "cell_type": "markdown",
   "metadata": {},
   "source": [
    "As células abaixo executam a sua função e comparam com os resultados esperados. Use-as para verificar se a sua função está funcionando (todas as células devem imprimir `True`)."
   ]
  },
  {
   "cell_type": "code",
   "execution_count": 56,
   "metadata": {
    "collapsed": false
   },
   "outputs": [
    {
     "data": {
      "text/plain": [
       "True"
      ]
     },
     "execution_count": 56,
     "metadata": {},
     "output_type": "execute_result"
    }
   ],
   "source": [
    "celsius_para_fahr(0) == 32"
   ]
  },
  {
   "cell_type": "code",
   "execution_count": 57,
   "metadata": {
    "collapsed": false
   },
   "outputs": [
    {
     "data": {
      "text/plain": [
       "True"
      ]
     },
     "execution_count": 57,
     "metadata": {},
     "output_type": "execute_result"
    }
   ],
   "source": [
    "celsius_para_fahr(100) == 212"
   ]
  },
  {
   "cell_type": "markdown",
   "metadata": {},
   "source": [
    "### Tarefa - Documentando funções\n",
    "\n",
    "Faça as funções acima novamente (**com o mesmo nome**), dessa vez criando *docstrings* para essas funções. A docstring da função deve ser no formato:\n",
    "\n",
    "    def minha_funcao(coisa1, coisa2):\n",
    "        \"\"\"\n",
    "        Calcula/faz tal e tal coisa utilizando a formula de tal\n",
    "        e assumindo que tal.\n",
    "        \n",
    "        Exemplos:\n",
    "        minha_funcao(10, 20) => 1345\n",
    "        minha_funcao(34, 42) => 145\n",
    "        \"\"\""
   ]
  },
  {
   "cell_type": "code",
   "execution_count": 88,
   "metadata": {
    "collapsed": false
   },
   "outputs": [],
   "source": [
    "def celsius_para_kelvin(celsius):\n",
    "    \"\"\"\n",
    "    Leva graus celsius em escala kelvin\n",
    "    \"\"\"\n",
    "    kelvin = celsius + 273.15\n",
    "    return kelvin"
   ]
  },
  {
   "cell_type": "code",
   "execution_count": 89,
   "metadata": {
    "collapsed": true
   },
   "outputs": [],
   "source": [
    "def kelvin_para_fahr(kelvin):\n",
    "        \"\"\"\n",
    "        Leva graus kelvin em graus fahrenheit\n",
    "        \"\"\"\n",
    "        fahrenheit = (kelvin - 273.15)*1.8 + 32\n",
    "        return fahrenheit"
   ]
  },
  {
   "cell_type": "code",
   "execution_count": 90,
   "metadata": {
    "collapsed": true
   },
   "outputs": [],
   "source": [
    "def celsius_para_fahr(celsius):\n",
    "    \"\"\"\n",
    "    Leva graus celsius em graus fahrenheit\n",
    "    \"\"\"\n",
    "    fahrenheit = ((celsius + 273.15) - 273.15)*1.8 + 32\n",
    "    return fahrenheit"
   ]
  },
  {
   "cell_type": "markdown",
   "metadata": {},
   "source": [
    "As células abaixo imprimem as docstrings de cada uma das funções."
   ]
  },
  {
   "cell_type": "code",
   "execution_count": 91,
   "metadata": {
    "collapsed": false
   },
   "outputs": [
    {
     "name": "stdout",
     "output_type": "stream",
     "text": [
      "Help on function celsius_para_kelvin in module __main__:\n",
      "\n",
      "celsius_para_kelvin(celsius)\n",
      "    Leva graus celsius em escala kelvin\n",
      "\n"
     ]
    }
   ],
   "source": [
    "help(celsius_para_kelvin)"
   ]
  },
  {
   "cell_type": "code",
   "execution_count": 92,
   "metadata": {
    "collapsed": false
   },
   "outputs": [
    {
     "name": "stdout",
     "output_type": "stream",
     "text": [
      "Help on function kelvin_para_fahr in module __main__:\n",
      "\n",
      "kelvin_para_fahr(kelvin)\n",
      "    Leva graus kelvin em graus fahrenheit\n",
      "\n"
     ]
    }
   ],
   "source": [
    "help(kelvin_para_fahr)"
   ]
  },
  {
   "cell_type": "code",
   "execution_count": 93,
   "metadata": {
    "collapsed": false
   },
   "outputs": [
    {
     "name": "stdout",
     "output_type": "stream",
     "text": [
      "Help on function celsius_para_fahr in module __main__:\n",
      "\n",
      "celsius_para_fahr(celsius)\n",
      "    Leva graus celsius em graus fahrenheit\n",
      "\n"
     ]
    }
   ],
   "source": [
    "help(celsius_para_fahr)"
   ]
  },
  {
   "cell_type": "markdown",
   "metadata": {},
   "source": [
    "## Programação defensiva"
   ]
  },
  {
   "cell_type": "markdown",
   "metadata": {},
   "source": [
    "### Tarefa - Checando os inputs\n",
    "\n",
    "Crie novamente a função `celsius_para_kelvin` (com a docstring definida acima). Dessa vez, utilize o comando `assert` para verificar se a temperatura permitida é maior ou igual ao 0 absoluto (0 Kelvin ou -273.15 Celsius). O `assert` deve vir antes do cálculo em si."
   ]
  },
  {
   "cell_type": "code",
   "execution_count": 87,
   "metadata": {
    "collapsed": true
   },
   "outputs": [],
   "source": [
    "def celsius_para_kelvin(celsius):\n",
    "    \"\"\"\n",
    "    Leva graus celsius em escala kelvin\n",
    "    \"\"\"\n",
    "    assert celsius >= -273.15, \"Se a temperatura em graus celsius for menor que 273.15, nao existira a temperatura\"\n",
    "    kelvin = celsius + 273.15\n",
    "    return kelvin"
   ]
  },
  {
   "cell_type": "markdown",
   "metadata": {},
   "source": [
    "As células abaixo testam se as funções estão fazendo a coisa certa (falhando quando menor que zero absoluto e não falhando caso contrário)."
   ]
  },
  {
   "cell_type": "code",
   "execution_count": 65,
   "metadata": {
    "collapsed": false
   },
   "outputs": [
    {
     "ename": "AssertionError",
     "evalue": "Se a temperatura em graus celsius for menor que 273.15, nao existira a temperatura",
     "output_type": "error",
     "traceback": [
      "\u001b[1;31m---------------------------------------------------------------------------\u001b[0m",
      "\u001b[1;31mAssertionError\u001b[0m                            Traceback (most recent call last)",
      "\u001b[1;32m<ipython-input-65-afdda9b84c56>\u001b[0m in \u001b[0;36m<module>\u001b[1;34m()\u001b[0m\n\u001b[1;32m----> 1\u001b[1;33m \u001b[0mcelsius_para_kelvin\u001b[0m\u001b[1;33m(\u001b[0m\u001b[1;33m-\u001b[0m\u001b[1;36m300\u001b[0m\u001b[1;33m)\u001b[0m\u001b[1;33m\u001b[0m\u001b[0m\n\u001b[0m",
      "\u001b[1;32m<ipython-input-64-34330d048732>\u001b[0m in \u001b[0;36mcelsius_para_kelvin\u001b[1;34m(celsius)\u001b[0m\n\u001b[0;32m      3\u001b[0m     \u001b[0mLeva\u001b[0m \u001b[0mgraus\u001b[0m \u001b[0mcelsius\u001b[0m \u001b[0mem\u001b[0m \u001b[0mgraus\u001b[0m \u001b[0mkelvin\u001b[0m\u001b[1;33m\u001b[0m\u001b[0m\n\u001b[0;32m      4\u001b[0m     \"\"\"\n\u001b[1;32m----> 5\u001b[1;33m     \u001b[1;32massert\u001b[0m \u001b[0mcelsius\u001b[0m \u001b[1;33m>=\u001b[0m \u001b[1;33m-\u001b[0m\u001b[1;36m273.15\u001b[0m\u001b[1;33m,\u001b[0m \u001b[1;34m\"Se a temperatura em graus celsius for menor que 273.15, nao existira a temperatura\"\u001b[0m\u001b[1;33m\u001b[0m\u001b[0m\n\u001b[0m\u001b[0;32m      6\u001b[0m     \u001b[0mkelvin\u001b[0m \u001b[1;33m=\u001b[0m \u001b[0mcelsius\u001b[0m \u001b[1;33m+\u001b[0m \u001b[1;36m273.15\u001b[0m\u001b[1;33m\u001b[0m\u001b[0m\n\u001b[0;32m      7\u001b[0m     \u001b[1;32mreturn\u001b[0m \u001b[0mkelvin\u001b[0m\u001b[1;33m\u001b[0m\u001b[0m\n",
      "\u001b[1;31mAssertionError\u001b[0m: Se a temperatura em graus celsius for menor que 273.15, nao existira a temperatura"
     ]
    }
   ],
   "source": [
    "celsius_para_kelvin(-300)"
   ]
  },
  {
   "cell_type": "code",
   "execution_count": 66,
   "metadata": {
    "collapsed": false
   },
   "outputs": [
    {
     "ename": "AssertionError",
     "evalue": "Se a temperatura em graus celsius for menor que 273.15, nao existira a temperatura",
     "output_type": "error",
     "traceback": [
      "\u001b[1;31m---------------------------------------------------------------------------\u001b[0m",
      "\u001b[1;31mAssertionError\u001b[0m                            Traceback (most recent call last)",
      "\u001b[1;32m<ipython-input-66-f86fc0be9a2b>\u001b[0m in \u001b[0;36m<module>\u001b[1;34m()\u001b[0m\n\u001b[1;32m----> 1\u001b[1;33m \u001b[0mcelsius_para_kelvin\u001b[0m\u001b[1;33m(\u001b[0m\u001b[1;33m-\u001b[0m\u001b[1;36m300\u001b[0m\u001b[1;33m)\u001b[0m  \u001b[1;31m# Deve gerar um AssertionError\u001b[0m\u001b[1;33m\u001b[0m\u001b[0m\n\u001b[0m",
      "\u001b[1;32m<ipython-input-64-34330d048732>\u001b[0m in \u001b[0;36mcelsius_para_kelvin\u001b[1;34m(celsius)\u001b[0m\n\u001b[0;32m      3\u001b[0m     \u001b[0mLeva\u001b[0m \u001b[0mgraus\u001b[0m \u001b[0mcelsius\u001b[0m \u001b[0mem\u001b[0m \u001b[0mgraus\u001b[0m \u001b[0mkelvin\u001b[0m\u001b[1;33m\u001b[0m\u001b[0m\n\u001b[0;32m      4\u001b[0m     \"\"\"\n\u001b[1;32m----> 5\u001b[1;33m     \u001b[1;32massert\u001b[0m \u001b[0mcelsius\u001b[0m \u001b[1;33m>=\u001b[0m \u001b[1;33m-\u001b[0m\u001b[1;36m273.15\u001b[0m\u001b[1;33m,\u001b[0m \u001b[1;34m\"Se a temperatura em graus celsius for menor que 273.15, nao existira a temperatura\"\u001b[0m\u001b[1;33m\u001b[0m\u001b[0m\n\u001b[0m\u001b[0;32m      6\u001b[0m     \u001b[0mkelvin\u001b[0m \u001b[1;33m=\u001b[0m \u001b[0mcelsius\u001b[0m \u001b[1;33m+\u001b[0m \u001b[1;36m273.15\u001b[0m\u001b[1;33m\u001b[0m\u001b[0m\n\u001b[0;32m      7\u001b[0m     \u001b[1;32mreturn\u001b[0m \u001b[0mkelvin\u001b[0m\u001b[1;33m\u001b[0m\u001b[0m\n",
      "\u001b[1;31mAssertionError\u001b[0m: Se a temperatura em graus celsius for menor que 273.15, nao existira a temperatura"
     ]
    }
   ],
   "source": [
    "celsius_para_kelvin(-300)  # Deve gerar um AssertionError"
   ]
  },
  {
   "cell_type": "code",
   "execution_count": 67,
   "metadata": {
    "collapsed": false
   },
   "outputs": [
    {
     "data": {
      "text/plain": [
       "0.0"
      ]
     },
     "execution_count": 67,
     "metadata": {},
     "output_type": "execute_result"
    }
   ],
   "source": [
    "celsius_para_kelvin(-273.15)  # Não deve falhar"
   ]
  },
  {
   "cell_type": "code",
   "execution_count": 68,
   "metadata": {
    "collapsed": false
   },
   "outputs": [
    {
     "ename": "AssertionError",
     "evalue": "Se a temperatura em graus celsius for menor que 273.15, nao existira a temperatura",
     "output_type": "error",
     "traceback": [
      "\u001b[1;31m---------------------------------------------------------------------------\u001b[0m",
      "\u001b[1;31mAssertionError\u001b[0m                            Traceback (most recent call last)",
      "\u001b[1;32m<ipython-input-68-e1398a9b49de>\u001b[0m in \u001b[0;36m<module>\u001b[1;34m()\u001b[0m\n\u001b[1;32m----> 1\u001b[1;33m \u001b[0mcelsius_para_kelvin\u001b[0m\u001b[1;33m(\u001b[0m\u001b[1;33m-\u001b[0m\u001b[1;36m273.16\u001b[0m\u001b[1;33m)\u001b[0m  \u001b[1;31m# Deve gerar um AssertionError\u001b[0m\u001b[1;33m\u001b[0m\u001b[0m\n\u001b[0m",
      "\u001b[1;32m<ipython-input-64-34330d048732>\u001b[0m in \u001b[0;36mcelsius_para_kelvin\u001b[1;34m(celsius)\u001b[0m\n\u001b[0;32m      3\u001b[0m     \u001b[0mLeva\u001b[0m \u001b[0mgraus\u001b[0m \u001b[0mcelsius\u001b[0m \u001b[0mem\u001b[0m \u001b[0mgraus\u001b[0m \u001b[0mkelvin\u001b[0m\u001b[1;33m\u001b[0m\u001b[0m\n\u001b[0;32m      4\u001b[0m     \"\"\"\n\u001b[1;32m----> 5\u001b[1;33m     \u001b[1;32massert\u001b[0m \u001b[0mcelsius\u001b[0m \u001b[1;33m>=\u001b[0m \u001b[1;33m-\u001b[0m\u001b[1;36m273.15\u001b[0m\u001b[1;33m,\u001b[0m \u001b[1;34m\"Se a temperatura em graus celsius for menor que 273.15, nao existira a temperatura\"\u001b[0m\u001b[1;33m\u001b[0m\u001b[0m\n\u001b[0m\u001b[0;32m      6\u001b[0m     \u001b[0mkelvin\u001b[0m \u001b[1;33m=\u001b[0m \u001b[0mcelsius\u001b[0m \u001b[1;33m+\u001b[0m \u001b[1;36m273.15\u001b[0m\u001b[1;33m\u001b[0m\u001b[0m\n\u001b[0;32m      7\u001b[0m     \u001b[1;32mreturn\u001b[0m \u001b[0mkelvin\u001b[0m\u001b[1;33m\u001b[0m\u001b[0m\n",
      "\u001b[1;31mAssertionError\u001b[0m: Se a temperatura em graus celsius for menor que 273.15, nao existira a temperatura"
     ]
    }
   ],
   "source": [
    "celsius_para_kelvin(-273.16)  # Deve gerar um AssertionError"
   ]
  },
  {
   "cell_type": "markdown",
   "metadata": {},
   "source": [
    "### Tarefa - Checando outputs\n",
    "\n",
    "Utilize comandos `assert` para verificar se a função `celsius_para_fahr` está retornando o valor correto para pelo menos **5 temperaturas diferentes**.\n",
    "\n",
    "Como exemplo, vou deixar pronto 1 dos testes (sim, esse conta como 1 dos 5):"
   ]
  },
  {
   "cell_type": "code",
   "execution_count": 122,
   "metadata": {
    "collapsed": false
   },
   "outputs": [
    {
     "data": {
      "text/plain": [
       "212.0"
      ]
     },
     "execution_count": 122,
     "metadata": {},
     "output_type": "execute_result"
    }
   ],
   "source": [
    "celsius_para_fahr(100)"
   ]
  },
  {
   "cell_type": "code",
   "execution_count": 123,
   "metadata": {
    "collapsed": false
   },
   "outputs": [
    {
     "ename": "AssertionError",
     "evalue": "Se a temperatura em graus celsius for menor que -273.15, nao existira a temperatura",
     "output_type": "error",
     "traceback": [
      "\u001b[1;31m---------------------------------------------------------------------------\u001b[0m",
      "\u001b[1;31mAssertionError\u001b[0m                            Traceback (most recent call last)",
      "\u001b[1;32m<ipython-input-123-7add6d9f312b>\u001b[0m in \u001b[0;36m<module>\u001b[1;34m()\u001b[0m\n\u001b[1;32m----> 1\u001b[1;33m \u001b[0mcelsius_para_fahr\u001b[0m\u001b[1;33m(\u001b[0m\u001b[1;33m-\u001b[0m\u001b[1;36m330\u001b[0m\u001b[1;33m)\u001b[0m\u001b[1;33m\u001b[0m\u001b[0m\n\u001b[0m",
      "\u001b[1;32m<ipython-input-105-82845c97161c>\u001b[0m in \u001b[0;36mcelsius_para_fahr\u001b[1;34m(celsius)\u001b[0m\n\u001b[0;32m      3\u001b[0m     \u001b[0mLeva\u001b[0m \u001b[0mgraus\u001b[0m \u001b[0mcelsius\u001b[0m \u001b[0mem\u001b[0m \u001b[0mgraus\u001b[0m \u001b[0mfahrenheit\u001b[0m\u001b[1;33m\u001b[0m\u001b[0m\n\u001b[0;32m      4\u001b[0m     \"\"\"\n\u001b[1;32m----> 5\u001b[1;33m     \u001b[1;32massert\u001b[0m \u001b[0mcelsius\u001b[0m \u001b[1;33m>=\u001b[0m \u001b[1;33m-\u001b[0m\u001b[1;36m273.15\u001b[0m\u001b[1;33m,\u001b[0m \u001b[1;34m\"Se a temperatura em graus celsius for menor que -273.15, nao existira a temperatura\"\u001b[0m\u001b[1;33m\u001b[0m\u001b[0m\n\u001b[0m\u001b[0;32m      6\u001b[0m     \u001b[0mfahrenheit\u001b[0m \u001b[1;33m=\u001b[0m \u001b[1;33m(\u001b[0m\u001b[1;33m(\u001b[0m\u001b[0mcelsius\u001b[0m \u001b[1;33m+\u001b[0m \u001b[1;36m273.15\u001b[0m\u001b[1;33m)\u001b[0m \u001b[1;33m-\u001b[0m \u001b[1;36m273.15\u001b[0m\u001b[1;33m)\u001b[0m\u001b[1;33m*\u001b[0m\u001b[1;36m1.8\u001b[0m \u001b[1;33m+\u001b[0m \u001b[1;36m32\u001b[0m\u001b[1;33m\u001b[0m\u001b[0m\n\u001b[0;32m      7\u001b[0m     \u001b[1;32mreturn\u001b[0m \u001b[0mfahrenheit\u001b[0m\u001b[1;33m\u001b[0m\u001b[0m\n",
      "\u001b[1;31mAssertionError\u001b[0m: Se a temperatura em graus celsius for menor que -273.15, nao existira a temperatura"
     ]
    }
   ],
   "source": [
    "celsius_para_fahr(-330)"
   ]
  },
  {
   "cell_type": "code",
   "execution_count": 129,
   "metadata": {
    "collapsed": false
   },
   "outputs": [
    {
     "data": {
      "text/plain": [
       "32.0"
      ]
     },
     "execution_count": 129,
     "metadata": {},
     "output_type": "execute_result"
    }
   ],
   "source": [
    "celsius_para_fahr(0)"
   ]
  },
  {
   "cell_type": "code",
   "execution_count": 125,
   "metadata": {
    "collapsed": false
   },
   "outputs": [
    {
     "data": {
      "text/plain": [
       "-4.0"
      ]
     },
     "execution_count": 125,
     "metadata": {},
     "output_type": "execute_result"
    }
   ],
   "source": [
    "celsius_para_fahr(-20)"
   ]
  },
  {
   "cell_type": "code",
   "execution_count": 126,
   "metadata": {
    "collapsed": false
   },
   "outputs": [
    {
     "data": {
      "text/plain": [
       "89.6"
      ]
     },
     "execution_count": 126,
     "metadata": {},
     "output_type": "execute_result"
    }
   ],
   "source": [
    "celsius_para_fahr(32)"
   ]
  },
  {
   "cell_type": "code",
   "execution_count": 127,
   "metadata": {
    "collapsed": false
   },
   "outputs": [
    {
     "data": {
      "text/plain": [
       "-328.0"
      ]
     },
     "execution_count": 127,
     "metadata": {},
     "output_type": "execute_result"
    }
   ],
   "source": [
    "celsius_para_fahr(-200)"
   ]
  },
  {
   "cell_type": "markdown",
   "metadata": {},
   "source": [
    "## Integrando tudo"
   ]
  },
  {
   "cell_type": "markdown",
   "metadata": {},
   "source": [
    "### Tarefa - Contas com matrizes\n",
    "\n",
    "Crie as funções abaixo:\n",
    "\n",
    "* `msoma`: recebe duas matrizes como entrada e retorna a soma dessas duas matrizes. Lembre-se que só é possível somar duas matrizes com o mesmo número de linhas e colunas.\n",
    "* `mmult`: recebe duas matrizes como entrada e retorna a multiplicação dessas matrizes. Lembre-se que só é possível multiplicar a matriz A por B se o número de colunas de A for igual ao número de linhas de B.\n",
    "* `vmult`: recebe uma matriz e um vetor como entrada e retorna a multiplicação da matriz pelo vetor.\n",
    "\n",
    "Todas as funções devem conter *docstrings* e `assert`s para conferir as entradas.\n",
    "\n",
    "**Dica**: Copie o código das aulas passadas."
   ]
  },
  {
   "cell_type": "code",
   "execution_count": null,
   "metadata": {
    "collapsed": true
   },
   "outputs": [],
   "source": []
  },
  {
   "cell_type": "code",
   "execution_count": null,
   "metadata": {
    "collapsed": true
   },
   "outputs": [],
   "source": []
  },
  {
   "cell_type": "code",
   "execution_count": null,
   "metadata": {
    "collapsed": true
   },
   "outputs": [],
   "source": []
  },
  {
   "cell_type": "markdown",
   "metadata": {},
   "source": [
    "Utilize as células abaixo para criar comandos `assert` que testem se suas funções produzem o resultado esperado. Utilize a função `np.allclose` do [numpy](http://numpy.org/) para verificar duas matrizes ou vetores possuem valores próximos (praticamente iguais). Exemplo:\n",
    "\n",
    "    A = [[1, 2], [3, 4]]\n",
    "    B = [[1, 2], [3, 4]]\n",
    "    np.allclose(A, B) -> True\n",
    "    \n",
    "    C = [[1.1, 2], [3, 4]]\n",
    "    np.allclose(A, C) -> False\n",
    "\n",
    "**Cada função deve ter pelo menos 4 testes**.\n",
    "\n",
    "Teste também se as suas funções falham quando a entrada é inadequada (dica: coloque esses casos cada um em uma célula).\n",
    "\n",
    "Como exemplo, deixo os primeiros testes prontos para vocês."
   ]
  },
  {
   "cell_type": "code",
   "execution_count": null,
   "metadata": {
    "collapsed": false
   },
   "outputs": [],
   "source": [
    "# Testa se msoma produz o resultado esperado\n",
    "A = [[1, 2, 3], [4, 5, 6]]\n",
    "B = [[7, 8, 9], [10, 11, 12]]\n",
    "C = [[8, 10, 12], [14, 16, 18]]\n",
    "assert np.allclose(msoma(A, B), C)\n",
    "# Coloque abaixo os seus asserts\n"
   ]
  },
  {
   "cell_type": "code",
   "execution_count": null,
   "metadata": {
    "collapsed": false
   },
   "outputs": [],
   "source": [
    "msoma([[1, 2, 3], [4, 5, 6]], [[1, 2], [1, 2]])  # Deve produzir um AssertionError"
   ]
  },
  {
   "cell_type": "code",
   "execution_count": null,
   "metadata": {
    "collapsed": false
   },
   "outputs": [],
   "source": [
    "msoma([[1, 2, 3], [4, 5, 6]], [[1, 2, 3]])  # Deve produzir um AssertionError"
   ]
  },
  {
   "cell_type": "code",
   "execution_count": null,
   "metadata": {
    "collapsed": true
   },
   "outputs": [],
   "source": []
  },
  {
   "cell_type": "code",
   "execution_count": null,
   "metadata": {
    "collapsed": true
   },
   "outputs": [],
   "source": []
  },
  {
   "cell_type": "code",
   "execution_count": null,
   "metadata": {
    "collapsed": true
   },
   "outputs": [],
   "source": []
  },
  {
   "cell_type": "code",
   "execution_count": null,
   "metadata": {
    "collapsed": true
   },
   "outputs": [],
   "source": []
  },
  {
   "cell_type": "code",
   "execution_count": null,
   "metadata": {
    "collapsed": true
   },
   "outputs": [],
   "source": []
  },
  {
   "cell_type": "markdown",
   "metadata": {},
   "source": [
    "## Tarefa Bônus\n",
    "\n",
    "Crie a função:\n",
    "\n",
    "* `mtrans`: recebe uma matriz como entrada e retorna a transposta de dessa matriz. A transposta é a matriz com suas linhas transformadas em colunas.\n",
    "\n",
    "A função deve ter uma docstring, `assert`s para verificar a entrada e testes para verificar se o resultado é o esperado."
   ]
  },
  {
   "cell_type": "code",
   "execution_count": null,
   "metadata": {
    "collapsed": true
   },
   "outputs": [],
   "source": []
  },
  {
   "cell_type": "code",
   "execution_count": null,
   "metadata": {
    "collapsed": true
   },
   "outputs": [],
   "source": []
  },
  {
   "cell_type": "code",
   "execution_count": null,
   "metadata": {
    "collapsed": true
   },
   "outputs": [],
   "source": []
  },
  {
   "cell_type": "code",
   "execution_count": null,
   "metadata": {
    "collapsed": true
   },
   "outputs": [],
   "source": []
  }
 ],
 "metadata": {
  "kernelspec": {
   "display_name": "Python 3",
   "language": "python",
   "name": "python3"
  },
  "language_info": {
   "codemirror_mode": {
    "name": "ipython",
    "version": 3
   },
   "file_extension": ".py",
   "mimetype": "text/x-python",
   "name": "python",
   "nbconvert_exporter": "python",
   "pygments_lexer": "ipython3",
   "version": "3.4.3"
  }
 },
 "nbformat": 4,
 "nbformat_minor": 0
}
